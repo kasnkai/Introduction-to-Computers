{
  "nbformat": 4,
  "nbformat_minor": 0,
  "metadata": {
    "colab": {
      "provenance": [],
      "authorship_tag": "ABX9TyOPOyvNopv+ib6R7BQKiJKr",
      "include_colab_link": true
    },
    "kernelspec": {
      "name": "python3",
      "display_name": "Python 3"
    },
    "language_info": {
      "name": "python"
    }
  },
  "cells": [
    {
      "cell_type": "markdown",
      "metadata": {
        "id": "view-in-github",
        "colab_type": "text"
      },
      "source": [
        "<a href=\"https://colab.research.google.com/github/kasnkai/Introduction-to-Computers/blob/main/0313.ipynb\" target=\"_parent\"><img src=\"https://colab.research.google.com/assets/colab-badge.svg\" alt=\"Open In Colab\"/></a>"
      ]
    },
    {
      "cell_type": "code",
      "source": [
        "print(\"0313\")"
      ],
      "metadata": {
        "colab": {
          "base_uri": "https://localhost:8080/"
        },
        "id": "j9ihZYUFCMft",
        "outputId": "738dc762-4009-4877-eb52-a1db7d576236"
      },
      "execution_count": 40,
      "outputs": [
        {
          "output_type": "stream",
          "name": "stdout",
          "text": [
            "0313\n"
          ]
        }
      ]
    },
    {
      "cell_type": "code",
      "source": [
        "a = b = c = 1"
      ],
      "metadata": {
        "id": "d9K2-k9GCRGd"
      },
      "execution_count": 42,
      "outputs": []
    },
    {
      "cell_type": "code",
      "source": [
        "d = \"1\""
      ],
      "metadata": {
        "id": "QXxmwxdLCYEh"
      },
      "execution_count": 43,
      "outputs": []
    },
    {
      "cell_type": "code",
      "source": [
        "a, d"
      ],
      "metadata": {
        "colab": {
          "base_uri": "https://localhost:8080/"
        },
        "id": "wF-F6xHxCbXL",
        "outputId": "e206eb8d-f1f4-4b7c-b072-303a78b6c7ca"
      },
      "execution_count": 44,
      "outputs": [
        {
          "output_type": "execute_result",
          "data": {
            "text/plain": [
              "(1, '1')"
            ]
          },
          "metadata": {},
          "execution_count": 44
        }
      ]
    },
    {
      "cell_type": "code",
      "source": [
        "a + b + c"
      ],
      "metadata": {
        "colab": {
          "base_uri": "https://localhost:8080/"
        },
        "id": "iTqv-G50CeVy",
        "outputId": "3eeaac25-27bb-4bd4-bd7f-0a536a65ea41"
      },
      "execution_count": 45,
      "outputs": [
        {
          "output_type": "execute_result",
          "data": {
            "text/plain": [
              "3"
            ]
          },
          "metadata": {},
          "execution_count": 45
        }
      ]
    },
    {
      "cell_type": "code",
      "source": [
        "e = 123"
      ],
      "metadata": {
        "id": "tRhA93B4CjTu"
      },
      "execution_count": 46,
      "outputs": []
    },
    {
      "cell_type": "code",
      "source": [
        "f = \"123\""
      ],
      "metadata": {
        "id": "LVODob24ClQq"
      },
      "execution_count": 47,
      "outputs": []
    },
    {
      "cell_type": "code",
      "source": [
        "g = \"0313\""
      ],
      "metadata": {
        "id": "kn5tzXgZCraI"
      },
      "execution_count": 48,
      "outputs": []
    },
    {
      "cell_type": "code",
      "source": [
        "h = 1\n",
        "i = 2\n",
        "j = 3"
      ],
      "metadata": {
        "id": "8qhZhphhCupt"
      },
      "execution_count": 49,
      "outputs": []
    },
    {
      "cell_type": "code",
      "execution_count": null,
      "metadata": {
        "id": "JLCQYS6l2uLM"
      },
      "outputs": [],
      "source": [
        "age, name = 19, \"張建凱\""
      ]
    },
    {
      "cell_type": "code",
      "source": [
        "age"
      ],
      "metadata": {
        "colab": {
          "base_uri": "https://localhost:8080/"
        },
        "id": "LkDL02TJ27wy",
        "outputId": "b2487d9b-fc5a-469c-bfcb-a280a803f2a5"
      },
      "execution_count": null,
      "outputs": [
        {
          "output_type": "execute_result",
          "data": {
            "text/plain": [
              "19"
            ]
          },
          "metadata": {},
          "execution_count": 3
        }
      ]
    },
    {
      "cell_type": "code",
      "source": [
        "name"
      ],
      "metadata": {
        "colab": {
          "base_uri": "https://localhost:8080/",
          "height": 36
        },
        "id": "a0-prY6k298o",
        "outputId": "0cc17e79-be69-4db4-b3e0-db260a6ff3aa"
      },
      "execution_count": null,
      "outputs": [
        {
          "output_type": "execute_result",
          "data": {
            "text/plain": [
              "'張建凱'"
            ],
            "application/vnd.google.colaboratory.intrinsic+json": {
              "type": "string"
            }
          },
          "metadata": {},
          "execution_count": 4
        }
      ]
    },
    {
      "cell_type": "code",
      "source": [
        "day = \"0313\""
      ],
      "metadata": {
        "id": "1_tQN-g23zTv"
      },
      "execution_count": null,
      "outputs": []
    },
    {
      "cell_type": "code",
      "source": [
        "hi = \"你好\""
      ],
      "metadata": {
        "id": "zmdFJjBm38C0"
      },
      "execution_count": null,
      "outputs": []
    },
    {
      "cell_type": "code",
      "source": [
        "print(\"今天是\", day, hi, \"我是\", name)"
      ],
      "metadata": {
        "colab": {
          "base_uri": "https://localhost:8080/"
        },
        "id": "0-qovzkR4IxT",
        "outputId": "8acb29a2-0d7e-48ca-ef26-81f6b90ebd92"
      },
      "execution_count": null,
      "outputs": [
        {
          "output_type": "stream",
          "name": "stdout",
          "text": [
            "今天是 0313 你好 我是 張建凱\n"
          ]
        }
      ]
    },
    {
      "cell_type": "code",
      "source": [
        "print(\"今天是\"+day+hi+\"我是\"+name)"
      ],
      "metadata": {
        "colab": {
          "base_uri": "https://localhost:8080/"
        },
        "id": "pqs63lP75BNs",
        "outputId": "b7fc9501-dd66-4fc9-e4e8-f7d35cf6e366"
      },
      "execution_count": null,
      "outputs": [
        {
          "output_type": "stream",
          "name": "stdout",
          "text": [
            "今天是0313你好我是張建凱\n"
          ]
        }
      ]
    },
    {
      "cell_type": "code",
      "source": [
        "print(\"今天是\"+day+hi+\"！\"+\"我是\"+name+\"！\")"
      ],
      "metadata": {
        "colab": {
          "base_uri": "https://localhost:8080/"
        },
        "id": "XqlTHzam5ebJ",
        "outputId": "a5894b98-2e81-4e12-927d-82ac1d79e329"
      },
      "execution_count": null,
      "outputs": [
        {
          "output_type": "stream",
          "name": "stdout",
          "text": [
            "今天是0313你好！我是張建凱！\n"
          ]
        }
      ]
    },
    {
      "cell_type": "code",
      "source": [
        "str1 = \"張建凱說:'hey,你好！'\"\n",
        "str2 = '張建凱說：\"hey,你好！\"'"
      ],
      "metadata": {
        "id": "WGp8E3K47rKd"
      },
      "execution_count": null,
      "outputs": []
    },
    {
      "cell_type": "code",
      "source": [
        "print(str1)"
      ],
      "metadata": {
        "colab": {
          "base_uri": "https://localhost:8080/"
        },
        "id": "yDNC6cY2-1zG",
        "outputId": "9abf273b-2d80-4494-cf37-a17582477322"
      },
      "execution_count": null,
      "outputs": [
        {
          "output_type": "stream",
          "name": "stdout",
          "text": [
            "張建凱說:'hey,你好！'\n"
          ]
        }
      ]
    },
    {
      "cell_type": "code",
      "source": [
        "print(str2)"
      ],
      "metadata": {
        "colab": {
          "base_uri": "https://localhost:8080/"
        },
        "id": "MZv8Wv1s_uWu",
        "outputId": "08a5130b-c8a3-491a-ac6d-4a84d8893609"
      },
      "execution_count": null,
      "outputs": [
        {
          "output_type": "stream",
          "name": "stdout",
          "text": [
            "張建凱說：\"hey,你好！\"\n"
          ]
        }
      ]
    },
    {
      "cell_type": "code",
      "source": [
        "str = '這是字串'"
      ],
      "metadata": {
        "id": "pIpY4i3e_xmd"
      },
      "execution_count": null,
      "outputs": []
    },
    {
      "cell_type": "code",
      "source": [
        "str"
      ],
      "metadata": {
        "id": "Rwcj5V3lBGY-",
        "outputId": "3f08db43-8656-4aa6-98c1-ccc893295d9b",
        "colab": {
          "base_uri": "https://localhost:8080/",
          "height": 36
        }
      },
      "execution_count": null,
      "outputs": [
        {
          "output_type": "execute_result",
          "data": {
            "text/plain": [
              "'這是字串'"
            ],
            "application/vnd.google.colaboratory.intrinsic+json": {
              "type": "string"
            }
          },
          "metadata": {},
          "execution_count": 37
        }
      ]
    },
    {
      "cell_type": "code",
      "source": [
        "print(type(56))\n",
        "print(type(56.0))\n",
        "print(type(\"Hey man, how are you？\"))\n",
        "print(type(True))"
      ],
      "metadata": {
        "colab": {
          "base_uri": "https://localhost:8080/"
        },
        "id": "yNWvOlgg9NaU",
        "outputId": "93966f65-f2af-4c53-ffa2-42e56a1138d6"
      },
      "execution_count": null,
      "outputs": [
        {
          "output_type": "stream",
          "name": "stdout",
          "text": [
            "<class 'int'>\n",
            "<class 'float'>\n",
            "<class 'str'>\n",
            "<class 'bool'>\n"
          ]
        }
      ]
    },
    {
      "cell_type": "code",
      "source": [
        "print(type(a))"
      ],
      "metadata": {
        "colab": {
          "base_uri": "https://localhost:8080/"
        },
        "id": "gt746dqoBafl",
        "outputId": "7c1be11f-77ec-47a5-f4f6-4302283fb148"
      },
      "execution_count": 50,
      "outputs": [
        {
          "output_type": "stream",
          "name": "stdout",
          "text": [
            "<class 'int'>\n"
          ]
        }
      ]
    },
    {
      "cell_type": "code",
      "source": [
        "print(type(a),type(b),type(c),type(d),type(e),type(f),type(g),type(h),type(i),type(j))"
      ],
      "metadata": {
        "colab": {
          "base_uri": "https://localhost:8080/"
        },
        "id": "9LD8OnbrC8Fh",
        "outputId": "bb3e63de-5a8c-4757-df05-8b35b005c990"
      },
      "execution_count": 51,
      "outputs": [
        {
          "output_type": "stream",
          "name": "stdout",
          "text": [
            "<class 'int'> <class 'int'> <class 'int'> <class 'str'> <class 'int'> <class 'str'> <class 'str'> <class 'int'> <class 'int'> <class 'int'>\n"
          ]
        }
      ]
    }
  ]
}