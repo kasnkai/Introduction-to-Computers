{
  "nbformat": 4,
  "nbformat_minor": 0,
  "metadata": {
    "colab": {
      "provenance": [],
      "authorship_tag": "ABX9TyO8F4iT8g76hxrVL0NCzjce",
      "include_colab_link": true
    },
    "kernelspec": {
      "name": "python3",
      "display_name": "Python 3"
    },
    "language_info": {
      "name": "python"
    }
  },
  "cells": [
    {
      "cell_type": "markdown",
      "metadata": {
        "id": "view-in-github",
        "colab_type": "text"
      },
      "source": [
        "<a href=\"https://colab.research.google.com/github/kasnkai/Introduction-to-Computers/blob/main/0515.ipynb\" target=\"_parent\"><img src=\"https://colab.research.google.com/assets/colab-badge.svg\" alt=\"Open In Colab\"/></a>"
      ]
    },
    {
      "cell_type": "code",
      "execution_count": null,
      "metadata": {
        "id": "bWfPEny4Tw9r",
        "colab": {
          "base_uri": "https://localhost:8080/"
        },
        "outputId": "8e73a7ea-d52b-4ab2-f993-1b7f32971c47"
      },
      "outputs": [
        {
          "output_type": "stream",
          "name": "stdout",
          "text": [
            "請輸入體溫32\n",
            "體溫異常，請重新測量！\n"
          ]
        }
      ],
      "source": [
        "體溫=int(input('請輸入體溫'))\n",
        "if 體溫>=37.5:\n",
        "  print('體溫過高！')\n",
        "elif 37<體溫<37.4:\n",
        "    print('體溫略高！')\n",
        "elif 34<體溫<36.9:\n",
        "    print('體溫正常！')\n",
        "else :\n",
        "    print('體溫異常，請重新測量！') "
      ]
    },
    {
      "cell_type": "code",
      "source": [
        "score = int(input(\"請輸入成績 \"))\n",
        "if score >= 90:\n",
        "  print('A')\n",
        "elif score >= 80:\n",
        "  print('B')\n",
        "elif score >= 70:\n",
        "  print('C')\n",
        "elif score >= 60:\n",
        "  print('D')\n",
        "else:\n",
        "  print('E')"
      ],
      "metadata": {
        "colab": {
          "base_uri": "https://localhost:8080/"
        },
        "id": "LlKz_nfBa4M0",
        "outputId": "fa8c4b9f-67fb-473a-edd5-9737cc0e5abd"
      },
      "execution_count": null,
      "outputs": [
        {
          "output_type": "stream",
          "name": "stdout",
          "text": [
            "請輸入成績 90\n",
            "A\n"
          ]
        }
      ]
    },
    {
      "cell_type": "code",
      "source": [
        "月份=int(input('請輸入月份'))\n",
        "if 3<=月份<=5:\n",
        "  print(月份,'月是春天')\n",
        "elif 6<=月份<=8:\n",
        "  print(月份,'月是夏天')\n",
        "elif 9<=月份<=11:\n",
        "  print(月份,'月是秋天')\n",
        "elif 月份==12 or 1<=月份<=2:\n",
        "  print(月份,'月是冬天')\n",
        "else:\n",
        "  print('月份不在範圍內!') \n"
      ],
      "metadata": {
        "colab": {
          "base_uri": "https://localhost:8080/"
        },
        "id": "gCqWFuOHX0sr",
        "outputId": "01eacc88-c4a7-404b-f44b-da4b54190f5f"
      },
      "execution_count": null,
      "outputs": [
        {
          "output_type": "stream",
          "name": "stdout",
          "text": [
            "請輸入月份12\n",
            "12 月是冬天\n"
          ]
        }
      ]
    },
    {
      "cell_type": "code",
      "source": [
        "收入=int(input('請輸入今年收入淨額'))\n",
        "if 收入>=2000000:\n",
        "  print('付税金額：',收入*0.3)\n",
        "elif 收入>=1000000:\n",
        "  print('付稅金額：',收入*0.21)\n",
        "elif 收入>=600000:\n",
        "  print('付稅金額：',收入*0.13)\n",
        "elif 收入>=300000:\n",
        "  print('付稅金額：',收入*0.06)\n",
        "else:\n",
        "  print('付稅金額：',0)"
      ],
      "metadata": {
        "colab": {
          "base_uri": "https://localhost:8080/"
        },
        "id": "Q94z0_x-bzG_",
        "outputId": "a389d07f-8981-415d-dd8f-fb1c2fe50bcf"
      },
      "execution_count": null,
      "outputs": [
        {
          "output_type": "stream",
          "name": "stdout",
          "text": [
            "請輸入今年收入淨額100000\n",
            "付稅金額： 0\n"
          ]
        }
      ]
    }
  ]
}